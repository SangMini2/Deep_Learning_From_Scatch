{
  "nbformat": 4,
  "nbformat_minor": 0,
  "metadata": {
    "colab": {
      "provenance": [],
      "authorship_tag": "ABX9TyOP3yA4x4DqApaS5zoB22E2",
      "include_colab_link": true
    },
    "kernelspec": {
      "name": "python3",
      "display_name": "Python 3"
    },
    "language_info": {
      "name": "python"
    }
  },
  "cells": [
    {
      "cell_type": "markdown",
      "metadata": {
        "id": "view-in-github",
        "colab_type": "text"
      },
      "source": [
        "<a href=\"https://colab.research.google.com/github/SangMini2/Deep_Learning_From_Scatch/blob/main/DL_Study1.ipynb\" target=\"_parent\"><img src=\"https://colab.research.google.com/assets/colab-badge.svg\" alt=\"Open In Colab\"/></a>"
      ]
    },
    {
      "cell_type": "code",
      "source": [
        "import numpy as np"
      ],
      "metadata": {
        "id": "qBw1Bi3mJbqr"
      },
      "execution_count": 1,
      "outputs": []
    },
    {
      "cell_type": "markdown",
      "source": [
        "# **CHAPTER 1. 신경망 복습**"
      ],
      "metadata": {
        "id": "8Tuyp_fQI1FT"
      }
    },
    {
      "cell_type": "markdown",
      "source": [
        "## **1-1. 수학과 파이썬 복습(행렬)**"
      ],
      "metadata": {
        "id": "1Q6-oqwrSDXj"
      }
    },
    {
      "cell_type": "code",
      "source": [
        "x = np.array([1,2,3])\n",
        "\n",
        "x.shape"
      ],
      "metadata": {
        "colab": {
          "base_uri": "https://localhost:8080/"
        },
        "id": "SkLQGOAGI93O",
        "outputId": "f4b7ac6a-d9e4-4131-eb0f-a381ef60dc00"
      },
      "execution_count": 2,
      "outputs": [
        {
          "output_type": "execute_result",
          "data": {
            "text/plain": [
              "(3,)"
            ]
          },
          "metadata": {},
          "execution_count": 2
        }
      ]
    },
    {
      "cell_type": "code",
      "source": [
        "y = np.array([[1,2,3],[4,5,6]])\n",
        "print(y.shape)\n",
        "print(y.ndim) #dimension 차원 수 ( 행과 열로 이루어져 있으니 2차원이다 )"
      ],
      "metadata": {
        "colab": {
          "base_uri": "https://localhost:8080/"
        },
        "id": "WqplKcfeJkIh",
        "outputId": "b1f8dde6-16a0-4ca2-97ee-303cfea6c23f"
      },
      "execution_count": 3,
      "outputs": [
        {
          "output_type": "stream",
          "name": "stdout",
          "text": [
            "(2, 3)\n",
            "2\n"
          ]
        }
      ]
    },
    {
      "cell_type": "markdown",
      "source": [
        "행렬의 곱에는 형상이 중요하다.\n",
        "\n",
        "2X3 과 3X4 행렬의 곱은 가능하지만, 2X3 과 4X5 행렬의 곱은 불가능하다.\n",
        "\n",
        "대응하는 차원의 원소수가 같아야 계산이 가능합니다."
      ],
      "metadata": {
        "id": "dygF7RlNLLGH"
      }
    },
    {
      "cell_type": "markdown",
      "source": [
        "## **1-2. 신경망의 추론** "
      ],
      "metadata": {
        "id": "BrmXmGiASQ35"
      }
    },
    {
      "cell_type": "markdown",
      "source": [
        "신경망은 **입력층, 은닉층, 출력층**으로 구성되어 있다.\n",
        "\n",
        "입력층 -> 은닉층 (입력층에서 은닉층으로 갈 때 [연결될 때] ) 사이의 연결을 화살표로 나타내면 각 화살표에는 **가중치**가 존재하며, 입력층의 값들(노드들)과 가중치들이 곱해져 은닉층의 뉴런으로 쓰입니다. \n",
        "\n",
        "가중치 말고도 **편향**이라는 요소도 있는데, 입력 노드에 영향을 받지 않으며 은닉층의 노드에 더해지거나 빼지는 것을 **편향**이라고 한다.\n",
        "\n",
        "이는 은닉층 -> 출력층 도 동일하다.\n",
        "\n",
        "입력층의 모든 노드와 은닉층의 모든 노드가 연결되어 있으며, 은닉층의 모든 노드와 출력층의 모든 노드가 연결되어있는 상태를 **완전연결계층** 이라고 한다."
      ],
      "metadata": {
        "id": "bgsfDGGySxYV"
      }
    },
    {
      "cell_type": "markdown",
      "source": [
        "**미니배치 버전의 행렬의 곱**\n",
        "\n",
        "**x * W = h**\n",
        "\n",
        "형상 : N x 2  , 2 x 4    => N x 4 일 때,\n",
        "\n",
        "원래는 x가 하나의 데이터를 넣어서 h를 출력하는 경우도 있지만 N이라는 것을 넣은 이유는 하나의 샘플만을 대상으로 하는 것이 아닌 다수의 샘플 데이터(미니 배치)를 한꺼번에 처리할 수 있기 때문입니다.\n"
      ],
      "metadata": {
        "id": "jKiVkfc5UPEn"
      }
    },
    {
      "cell_type": "code",
      "source": [
        "W1 = np.random.randn(2,4) # 가중치\n",
        "b1 = np.random.randn(4) # 편향\n",
        "x = np.random.randn(10,2) # 입력 , 10개의 데이터를 미니 배치로 넣은 것\n",
        "h = np.matmul(x,W1) + b1\n",
        "\n",
        "h"
      ],
      "metadata": {
        "colab": {
          "base_uri": "https://localhost:8080/"
        },
        "id": "MCkNzIhnSXkp",
        "outputId": "4890496a-7fc5-4410-c385-716486077529"
      },
      "execution_count": 10,
      "outputs": [
        {
          "output_type": "execute_result",
          "data": {
            "text/plain": [
              "array([[ 1.30148659, -1.64641764,  0.07103052, -4.9313734 ],\n",
              "       [ 1.56352954, -2.01479681,  0.22947558, -4.43502705],\n",
              "       [ 0.57791149, -0.40173182,  0.74350317, -4.20803946],\n",
              "       [-0.0500934 ,  0.73284826,  1.59207   , -3.08050568],\n",
              "       [ 0.86042344, -0.65333187,  1.62453547, -2.33317262],\n",
              "       [ 1.6832396 , -2.13153725,  0.55337729, -3.73381165],\n",
              "       [ 1.44079583, -1.62363438,  1.22200588, -2.65518859],\n",
              "       [ 0.89988525, -0.47168448,  2.80540048, -0.07584037],\n",
              "       [ 2.22756737, -2.96613559,  0.54395778, -3.34142055],\n",
              "       [ 0.45100189,  0.15125027,  2.49443909, -1.00068265]])"
            ]
          },
          "metadata": {},
          "execution_count": 10
        }
      ]
    },
    {
      "cell_type": "code",
      "source": [
        "print(f\"x * W1 ? \\n{np.matmul(x, W1)}\")\n",
        "print(f\"b1 ? \\n {b1}\")\n",
        "print(\"\")\n",
        "print(f\"b1.shape? {b1.shape}\")\n",
        "print(\"\")\n",
        "print(f\"h? \\n {h}\")"
      ],
      "metadata": {
        "colab": {
          "base_uri": "https://localhost:8080/"
        },
        "id": "qaCw7D2TV5oO",
        "outputId": "bfdd8b19-f0dc-4e24-8752-0d1a6c836592"
      },
      "execution_count": 14,
      "outputs": [
        {
          "output_type": "stream",
          "name": "stdout",
          "text": [
            "x * W1 ? \n",
            "[[ 0.18955851 -0.5566357  -1.30115004 -2.31166861]\n",
            " [ 0.45160146 -0.92501487 -1.14270498 -1.81532226]\n",
            " [-0.53401658  0.68805013 -0.6286774  -1.58833468]\n",
            " [-1.16202148  1.8226302   0.21988944 -0.46080089]\n",
            " [-0.25150464  0.43645008  0.25235491  0.28653216]\n",
            " [ 0.57131152 -1.04175531 -0.81880327 -1.11410686]\n",
            " [ 0.32886775 -0.53385244 -0.15017468 -0.03548381]\n",
            " [-0.21204283  0.61809747  1.43321992  2.54386441]\n",
            " [ 1.11563929 -1.87635365 -0.82822278 -0.72171576]\n",
            " [-0.66092619  1.24103221  1.12225853  1.61902214]]\n",
            "b1 ? \n",
            " [ 1.11192808 -1.08978194  1.37218056 -2.61970478]\n",
            "\n",
            "b1.shape? (4,)\n",
            "\n",
            "h? \n",
            " [[ 1.30148659 -1.64641764  0.07103052 -4.9313734 ]\n",
            " [ 1.56352954 -2.01479681  0.22947558 -4.43502705]\n",
            " [ 0.57791149 -0.40173182  0.74350317 -4.20803946]\n",
            " [-0.0500934   0.73284826  1.59207    -3.08050568]\n",
            " [ 0.86042344 -0.65333187  1.62453547 -2.33317262]\n",
            " [ 1.6832396  -2.13153725  0.55337729 -3.73381165]\n",
            " [ 1.44079583 -1.62363438  1.22200588 -2.65518859]\n",
            " [ 0.89988525 -0.47168448  2.80540048 -0.07584037]\n",
            " [ 2.22756737 -2.96613559  0.54395778 -3.34142055]\n",
            " [ 0.45100189  0.15125027  2.49443909 -1.00068265]]\n"
          ]
        }
      ]
    },
    {
      "cell_type": "markdown",
      "source": [
        "**Sigmoid(시그모이드) 함수**"
      ],
      "metadata": {
        "id": "F-rsHuBsW7mo"
      }
    },
    {
      "cell_type": "code",
      "source": [
        "def sigmoid(x) :\n",
        "  return 1/(1 + np.exp(-x))"
      ],
      "metadata": {
        "id": "vA43jlu2WvIq"
      },
      "execution_count": 21,
      "outputs": []
    },
    {
      "cell_type": "code",
      "source": [
        "# 여기서 만들어진 은닉층 뉴런 h를 변환\n",
        "\n",
        "a = sigmoid(h)\n",
        "a"
      ],
      "metadata": {
        "colab": {
          "base_uri": "https://localhost:8080/"
        },
        "id": "IM0nk0QMW_0y",
        "outputId": "ee8d6cd8-dd8f-49c1-a6c1-67fbe29e8427"
      },
      "execution_count": 22,
      "outputs": [
        {
          "output_type": "execute_result",
          "data": {
            "text/plain": [
              "array([[0.78608507, 0.1615937 , 0.51775017, 0.00716488],\n",
              "       [0.82685924, 0.11765808, 0.55711846, 0.01171586],\n",
              "       [0.6405867 , 0.40089632, 0.67776143, 0.01465747],\n",
              "       [0.48747927, 0.67542999, 0.83090714, 0.04391858],\n",
              "       [0.70274912, 0.3422391 , 0.83541968, 0.08841263],\n",
              "       [0.84333303, 0.10606914, 0.63491879, 0.02334361],\n",
              "       [0.80857786, 0.16470425, 0.77241635, 0.06566993],\n",
              "       [0.71092592, 0.38421763, 0.94296696, 0.48104899],\n",
              "       [0.9026979 , 0.04897942, 0.63273262, 0.03417724],\n",
              "       [0.61087742, 0.53774065, 0.92375106, 0.26880723]])"
            ]
          },
          "metadata": {},
          "execution_count": 22
        }
      ]
    },
    {
      "cell_type": "code",
      "source": [
        "# 이대로 출력층까지 만들어주고 싶다면 -> 출력층은 10 x 3 형상이라면?\n",
        "\n",
        "W2 = np.random.randn(4,3)\n",
        "b2 = np.random.randn(3)\n",
        "\n",
        "s = np.matmul(a, W2) + b2 # s가 출력층\n",
        "s"
      ],
      "metadata": {
        "colab": {
          "base_uri": "https://localhost:8080/"
        },
        "id": "WDVARyiuXnxW",
        "outputId": "b4421bdc-25ce-4f5d-e8ef-22e0210b146b"
      },
      "execution_count": 23,
      "outputs": [
        {
          "output_type": "execute_result",
          "data": {
            "text/plain": [
              "array([[ 0.12636118, -0.40883858, -1.0882654 ],\n",
              "       [ 0.16890123, -0.31180411, -1.06096013],\n",
              "       [ 0.02975475, -0.81163347, -1.15360883],\n",
              "       [-0.10220564, -1.24826409, -1.24385559],\n",
              "       [ 0.0912463 , -0.6077867 , -1.06614588],\n",
              "       [ 0.20099605, -0.26603007, -1.03123767],\n",
              "       [ 0.19324801, -0.31966341, -1.00135926],\n",
              "       [-0.10206002, -0.310623  , -0.96113959],\n",
              "       [ 0.23396309, -0.13606579, -1.01806529],\n",
              "       [-0.09456727, -0.77138141, -1.10432899]])"
            ]
          },
          "metadata": {},
          "execution_count": 23
        }
      ]
    },
    {
      "cell_type": "markdown",
      "source": [
        "# **순전파와 역전파 구현**"
      ],
      "metadata": {
        "id": "-B8IWSfhYDfS"
      }
    },
    {
      "cell_type": "markdown",
      "source": [
        "**역전파를 하는 이유** : 학습을 통해 좋은 가중치를 찾기 위해서\n",
        "\n",
        "출력된 결과에게 역전파를 이용하면 어떤 입력층의 노드들이 얼마나 영향을 끼쳤는지를 파악할 수 있다. 이를 통해 가중치가 업데이트 되고 이런 식으로 좋은 결과를 이끌어 내기 위해 가중치를 계속 업데이트를 해주는데, 이 때 역전파가 쓰인다."
      ],
      "metadata": {
        "id": "oXGzRZtRgYee"
      }
    },
    {
      "cell_type": "code",
      "source": [
        "class sigmoid:\n",
        "  def __init__(self) :\n",
        "    self.params = []\n",
        "\n",
        "  def forward(self,x) : # 순전파 \n",
        "    out = 1/(1+np.exp(-x))\n",
        "    self.out = out\n",
        "    return out\n",
        "  \n",
        "  def backward(self, dout): #역전파\n",
        "    dx = dout * (1 - self.out) * self.out\n",
        "    return dx\n",
        "'''dout는 들어오는 것. dL/dz 같은 것을 의미하며, out은 forward를 통해 도출된 값으로 sigmoid 함수를 미분했을 때 그 값을 넣는 용도'''"
      ],
      "metadata": {
        "id": "n90ZOYLDZNH4"
      },
      "execution_count": null,
      "outputs": []
    },
    {
      "cell_type": "code",
      "source": [
        "class Affine :\n",
        "  def __init__(self, W, b) :\n",
        "    self.params = [W, b]\n",
        "    self.grads = [np.zeros_like(W) , np.zeros_like(b)]\n",
        "    self.x = None\n",
        "  \n",
        "  def"
      ],
      "metadata": {
        "id": "PBerVVZeZ4VG"
      },
      "execution_count": null,
      "outputs": []
    }
  ]
}